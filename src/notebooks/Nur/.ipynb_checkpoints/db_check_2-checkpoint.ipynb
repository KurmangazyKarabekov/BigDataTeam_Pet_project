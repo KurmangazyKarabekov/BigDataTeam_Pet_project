{
 "cells": [
  {
   "cell_type": "code",
   "execution_count": 1,
   "id": "initial_id",
   "metadata": {
    "ExecuteTime": {
     "end_time": "2024-10-27T14:32:08.117230Z",
     "start_time": "2024-10-27T14:32:08.111808Z"
    }
   },
   "outputs": [],
   "source": [
    "import pandas as pd\n",
    "import psycopg2\n",
    "\n",
    "from sqlalchemy import create_engine, text"
   ]
  },
  {
   "cell_type": "code",
   "execution_count": 4,
   "id": "ccc40200863f21f2",
   "metadata": {
    "ExecuteTime": {
     "end_time": "2024-10-27T14:44:08.574133Z",
     "start_time": "2024-10-27T14:44:05.866530Z"
    }
   },
   "outputs": [],
   "source": [
    "conn_string = \"host='db' dbname='postgres' user='postgres'\""
   ]
  },
  {
   "cell_type": "code",
   "execution_count": 5,
   "id": "4562936f2ce51071",
   "metadata": {
    "ExecuteTime": {
     "end_time": "2024-10-27T14:36:05.081954Z",
     "start_time": "2024-10-27T14:36:05.062012Z"
    }
   },
   "outputs": [],
   "source": [
    "conn = psycopg2.connect(conn_string)\n"
   ]
  },
  {
   "cell_type": "code",
   "execution_count": null,
   "id": "3ffe46b2a5845421",
   "metadata": {},
   "outputs": [],
   "source": []
  }
 ],
 "metadata": {
  "kernelspec": {
   "display_name": "Python 3 (ipykernel)",
   "language": "python",
   "name": "python3"
  },
  "language_info": {
   "codemirror_mode": {
    "name": "ipython",
    "version": 3
   },
   "file_extension": ".py",
   "mimetype": "text/x-python",
   "name": "python",
   "nbconvert_exporter": "python",
   "pygments_lexer": "ipython3",
   "version": "3.11.3"
  }
 },
 "nbformat": 4,
 "nbformat_minor": 5
}
