{
 "cells": [
  {
   "cell_type": "code",
   "execution_count": 1,
   "id": "initial_id",
   "metadata": {
    "ExecuteTime": {
     "end_time": "2024-10-27T14:32:08.117230Z",
     "start_time": "2024-10-27T14:32:08.111808Z"
    }
   },
   "outputs": [],
   "source": [
    "import pandas as pd\n",
    "import psycopg2\n",
    "\n",
    "from sqlalchemy import create_engine, text"
   ]
  },
  {
   "cell_type": "code",
   "id": "ccc40200863f21f2",
   "metadata": {
    "ExecuteTime": {
     "end_time": "2024-10-27T14:55:46.355490Z",
     "start_time": "2024-10-27T14:55:46.351906Z"
    }
   },
   "source": [
    "conn_string = \"host='db' dbname='postgres' user='postgres'\""
   ],
   "outputs": [],
   "execution_count": 35
  },
  {
   "cell_type": "code",
   "id": "4562936f2ce51071",
   "metadata": {
    "ExecuteTime": {
     "end_time": "2024-10-27T15:01:29.288761Z",
     "start_time": "2024-10-27T15:01:26.551525Z"
    }
   },
   "source": "conn = psycopg2.connect(conn_string)",
   "outputs": [
    {
     "ename": "OperationalError",
     "evalue": "",
     "output_type": "error",
     "traceback": [
      "\u001B[1;31m---------------------------------------------------------------------------\u001B[0m",
      "\u001B[1;31mOperationalError\u001B[0m                          Traceback (most recent call last)",
      "Cell \u001B[1;32mIn[39], line 1\u001B[0m\n\u001B[1;32m----> 1\u001B[0m conn \u001B[38;5;241m=\u001B[39m \u001B[43mpsycopg2\u001B[49m\u001B[38;5;241;43m.\u001B[39;49m\u001B[43mconnect\u001B[49m\u001B[43m(\u001B[49m\u001B[43mconn_string\u001B[49m\u001B[43m)\u001B[49m\n",
      "File \u001B[1;32m~\\BigDataTeam_Pet_project\\.venv\\Lib\\site-packages\\psycopg2\\__init__.py:122\u001B[0m, in \u001B[0;36mconnect\u001B[1;34m(dsn, connection_factory, cursor_factory, **kwargs)\u001B[0m\n\u001B[0;32m    119\u001B[0m     kwasync[\u001B[38;5;124m'\u001B[39m\u001B[38;5;124masync_\u001B[39m\u001B[38;5;124m'\u001B[39m] \u001B[38;5;241m=\u001B[39m kwargs\u001B[38;5;241m.\u001B[39mpop(\u001B[38;5;124m'\u001B[39m\u001B[38;5;124masync_\u001B[39m\u001B[38;5;124m'\u001B[39m)\n\u001B[0;32m    121\u001B[0m dsn \u001B[38;5;241m=\u001B[39m _ext\u001B[38;5;241m.\u001B[39mmake_dsn(dsn, \u001B[38;5;241m*\u001B[39m\u001B[38;5;241m*\u001B[39mkwargs)\n\u001B[1;32m--> 122\u001B[0m conn \u001B[38;5;241m=\u001B[39m \u001B[43m_connect\u001B[49m\u001B[43m(\u001B[49m\u001B[43mdsn\u001B[49m\u001B[43m,\u001B[49m\u001B[43m \u001B[49m\u001B[43mconnection_factory\u001B[49m\u001B[38;5;241;43m=\u001B[39;49m\u001B[43mconnection_factory\u001B[49m\u001B[43m,\u001B[49m\u001B[43m \u001B[49m\u001B[38;5;241;43m*\u001B[39;49m\u001B[38;5;241;43m*\u001B[39;49m\u001B[43mkwasync\u001B[49m\u001B[43m)\u001B[49m\n\u001B[0;32m    123\u001B[0m \u001B[38;5;28;01mif\u001B[39;00m cursor_factory \u001B[38;5;129;01mis\u001B[39;00m \u001B[38;5;129;01mnot\u001B[39;00m \u001B[38;5;28;01mNone\u001B[39;00m:\n\u001B[0;32m    124\u001B[0m     conn\u001B[38;5;241m.\u001B[39mcursor_factory \u001B[38;5;241m=\u001B[39m cursor_factory\n",
      "\u001B[1;31mOperationalError\u001B[0m: "
     ]
    }
   ],
   "execution_count": 39
  },
  {
   "cell_type": "code",
   "id": "3ffe46b2a5845421",
   "metadata": {
    "ExecuteTime": {
     "end_time": "2024-10-27T14:57:46.919288Z",
     "start_time": "2024-10-27T14:57:44.225527Z"
    }
   },
   "source": [
    "import psycopg2\n",
    "from psycopg2 import OperationalError\n",
    "\n",
    "conn_string = \"host='db' dbname='postgres' user='postgres' password='postgres'\"\n",
    "\n",
    "try:\n",
    "    conn = psycopg2.connect(conn_string)\n",
    "    print(\"Connection successful!\")\n",
    "except OperationalError as e:\n",
    "    print(f\"OperationalError: {e}\")"
   ],
   "outputs": [
    {
     "name": "stdout",
     "output_type": "stream",
     "text": [
      "OperationalError: \n"
     ]
    }
   ],
   "execution_count": 38
  },
  {
   "metadata": {},
   "cell_type": "code",
   "outputs": [],
   "execution_count": null,
   "source": "",
   "id": "edd305199c621f8f"
  }
 ],
 "metadata": {
  "kernelspec": {
   "display_name": "Python 3 (ipykernel)",
   "language": "python",
   "name": "python3"
  },
  "language_info": {
   "codemirror_mode": {
    "name": "ipython",
    "version": 3
   },
   "file_extension": ".py",
   "mimetype": "text/x-python",
   "name": "python",
   "nbconvert_exporter": "python",
   "pygments_lexer": "ipython3",
   "version": "3.11.3"
  }
 },
 "nbformat": 4,
 "nbformat_minor": 5
}
