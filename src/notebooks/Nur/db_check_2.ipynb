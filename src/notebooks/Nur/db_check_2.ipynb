{
 "cells": [
  {
   "cell_type": "code",
   "execution_count": 1,
   "id": "initial_id",
   "metadata": {
    "ExecuteTime": {
     "end_time": "2024-10-27T14:32:08.117230Z",
     "start_time": "2024-10-27T14:32:08.111808Z"
    }
   },
   "outputs": [],
   "source": [
    "import pandas as pd\n",
    "import psycopg2\n",
    "\n",
    "from sqlalchemy import create_engine, text"
   ]
  },
  {
   "cell_type": "code",
   "id": "ccc40200863f21f2",
   "metadata": {
    "ExecuteTime": {
     "end_time": "2024-10-27T14:55:46.355490Z",
     "start_time": "2024-10-27T14:55:46.351906Z"
    }
   },
   "source": [
    "conn_string = \"host='db' dbname='postgres' user='postgres'\""
   ],
   "outputs": [],
   "execution_count": 35
  },
  {
   "cell_type": "code",
   "id": "4562936f2ce51071",
   "metadata": {
    "ExecuteTime": {
     "end_time": "2024-10-27T14:57:07.537435Z",
     "start_time": "2024-10-27T14:57:07.513521Z"
    }
   },
   "source": "conn = psycopg2.connect(**conn_string)",
   "outputs": [
    {
     "ename": "TypeError",
     "evalue": "psycopg2.connect() argument after ** must be a mapping, not str",
     "output_type": "error",
     "traceback": [
      "\u001B[1;31m---------------------------------------------------------------------------\u001B[0m",
      "\u001B[1;31mTypeError\u001B[0m                                 Traceback (most recent call last)",
      "Cell \u001B[1;32mIn[37], line 1\u001B[0m\n\u001B[1;32m----> 1\u001B[0m conn \u001B[38;5;241m=\u001B[39m psycopg2\u001B[38;5;241m.\u001B[39mconnect(\u001B[38;5;241m*\u001B[39m\u001B[38;5;241m*\u001B[39mconn_string)\n",
      "\u001B[1;31mTypeError\u001B[0m: psycopg2.connect() argument after ** must be a mapping, not str"
     ]
    }
   ],
   "execution_count": 37
  },
  {
   "cell_type": "code",
   "id": "3ffe46b2a5845421",
   "metadata": {
    "ExecuteTime": {
     "end_time": "2024-10-27T14:57:46.919288Z",
     "start_time": "2024-10-27T14:57:44.225527Z"
    }
   },
   "source": [
    "import psycopg2\n",
    "from psycopg2 import OperationalError\n",
    "\n",
    "conn_string = \"host='db' dbname='postgres' user='postgres' password='postgres'\"\n",
    "\n",
    "try:\n",
    "    conn = psycopg2.connect(conn_string)\n",
    "    print(\"Connection successful!\")\n",
    "except OperationalError as e:\n",
    "    print(f\"OperationalError: {e}\")"
   ],
   "outputs": [
    {
     "name": "stdout",
     "output_type": "stream",
     "text": [
      "OperationalError: \n"
     ]
    }
   ],
   "execution_count": 38
  },
  {
   "metadata": {},
   "cell_type": "code",
   "outputs": [],
   "execution_count": null,
   "source": "",
   "id": "edd305199c621f8f"
  }
 ],
 "metadata": {
  "kernelspec": {
   "display_name": "Python 3 (ipykernel)",
   "language": "python",
   "name": "python3"
  },
  "language_info": {
   "codemirror_mode": {
    "name": "ipython",
    "version": 3
   },
   "file_extension": ".py",
   "mimetype": "text/x-python",
   "name": "python",
   "nbconvert_exporter": "python",
   "pygments_lexer": "ipython3",
   "version": "3.11.3"
  }
 },
 "nbformat": 4,
 "nbformat_minor": 5
}
