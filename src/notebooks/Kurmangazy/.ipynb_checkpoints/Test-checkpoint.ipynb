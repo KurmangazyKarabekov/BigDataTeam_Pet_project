{
 "cells": [
  {
   "cell_type": "code",
   "execution_count": 1,
   "id": "9a084402-f36b-4854-ace1-e672a810742c",
   "metadata": {},
   "source": [
    "import pandas as pd\n",
    "import psycopg2\n",
    "\n",
    "from sqlalchemy import create_engine, text"
   ],
   "outputs": []
  },
  {
   "cell_type": "code",
   "execution_count": 2,
   "id": "5df355eb-2acf-4942-ace1-97aa8128492c",
   "metadata": {},
   "source": [
    "conn_string = \"host='db' dbname='postgres' user='postgres'\""
   ],
   "outputs": []
  },
  {
   "cell_type": "code",
   "execution_count": 3,
   "id": "4d7cee81-d767-4978-8fe1-a0a73f6348d2",
   "metadata": {},
   "source": [
    "conn = psycopg2.connect(conn_string)"
   ],
   "outputs": []
  },
  {
   "cell_type": "code",
   "execution_count": 4,
   "id": "c27c6f1e-0b90-4501-933e-44eadac9142c",
   "metadata": {},
   "source": [
    "cursor = conn.cursor()"
   ],
   "outputs": []
  },
  {
   "cell_type": "code",
   "execution_count": 7,
   "id": "50eb3ae2",
   "metadata": {},
   "source": [
    "!pwd"
   ],
   "outputs": []
  },
  {
   "cell_type": "code",
   "execution_count": 9,
   "id": "69987dee-2aad-4c25-a572-83fd73e1142f",
   "metadata": {},
   "source": [
    "df = pd.read_csv('/app/Data/Titanic/train.csv')"
   ],
   "outputs": []
  },
  {
   "cell_type": "code",
   "execution_count": 10,
   "id": "2da3930a",
   "metadata": {},
   "source": [
    "df_test = pd.read_csv('/app/Data/Titanic//test.csv')"
   ],
   "outputs": []
  },
  {
   "cell_type": "code",
   "execution_count": 40,
   "id": "8a8a6e58-fb0f-485d-b18c-0cbe75b2ba0f",
   "metadata": {},
   "source": [
    "df.head(5)"
   ],
   "outputs": []
  },
  {
   "cell_type": "code",
   "execution_count": 11,
   "id": "8cc9b0ae-e18d-4171-a4be-418debcfb67c",
   "metadata": {},
   "source": [
    "engine = create_engine('postgresql://postgres@db:5432/postgres')"
   ],
   "outputs": []
  },
  {
   "cell_type": "code",
   "execution_count": 28,
   "id": "09edc70a-1e63-49f5-85bd-fdda8c2a9a26",
   "metadata": {},
   "source": [
    "#загружаем данные в postgres\n",
    "df.to_sql('titanic_train', con=engine)"
   ],
   "outputs": []
  },
  {
   "cell_type": "code",
   "execution_count": 12,
   "id": "c62aa0e7",
   "metadata": {},
   "source": [
    "df_test.to_sql('titanic_test', con=engine)"
   ],
   "outputs": []
  },
  {
   "cell_type": "code",
   "execution_count": 6,
   "id": "4130c25e-2065-4bda-bd87-3ac14512ff78",
   "metadata": {},
   "source": [
    "# читаем данные из postgres\n",
    "with engine.begin() as conn:\n",
    "    query = text(\"\"\"\n",
    "    SELECT * \n",
    "    FROM titanic_train\n",
    "    \"\"\")\n",
    "    df_pg = pd.read_sql_query(query, conn)"
   ],
   "outputs": []
  },
  {
   "cell_type": "code",
   "execution_count": 7,
   "id": "5aa2575f-02cb-46ff-bd29-4a87276401e3",
   "metadata": {},
   "source": [
    "df_pg.head(5)"
   ],
   "outputs": []
  },
  {
   "cell_type": "code",
   "execution_count": 8,
   "id": "1bfbeba7-b441-4026-bf76-3b94af3a78bb",
   "metadata": {},
   "source": [
    "df_pg.shape"
   ],
   "outputs": []
  },
  {
   "cell_type": "code",
   "execution_count": 9,
   "id": "44c534b2",
   "metadata": {},
   "source": [
    "13*891"
   ],
   "outputs": []
  },
  {
   "cell_type": "code",
   "execution_count": 12,
   "id": "16934742",
   "metadata": {},
   "source": [
    "df_pg.info()"
   ],
   "outputs": []
  },
  {
   "cell_type": "code",
   "execution_count": null,
   "id": "a751c49f",
   "metadata": {},
   "source": [],
   "outputs": []
  }
 ],
 "metadata": {
  "kernelspec": {
   "display_name": "Python 3 (ipykernel)",
   "language": "python",
   "name": "python3"
  },
  "language_info": {
   "codemirror_mode": {
    "name": "ipython",
    "version": 3
   },
   "file_extension": ".py",
   "mimetype": "text/x-python",
   "name": "python",
   "nbconvert_exporter": "python",
   "pygments_lexer": "ipython3",
   "version": "3.11.3"
  }
 },
 "nbformat": 4,
 "nbformat_minor": 5
}
